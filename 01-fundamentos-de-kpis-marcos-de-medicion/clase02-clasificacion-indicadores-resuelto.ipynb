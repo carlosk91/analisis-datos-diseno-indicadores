{
 "cells": [
  {
   "cell_type": "markdown",
   "id": "558a16b0",
   "metadata": {},
   "source": [
    "# Sesion 2: Entendiendo y clasificando indicadores\n",
    "\n",
    "En esta sesión profundizaremos sobre distintos tipos de KPIs. Exploraremos distintas clasificaciones de indicadores: Cuantitativos, cualitativos, estrategicos, operacionales y funcionales. Entender estas clasificaciones te ayudara a seleccionar KPIs de manera apropiada basado en las necesidades y objetivos del negocio\n",
    "\n",
    "\n",
    "## Que aprenderas:\n",
    "- Diferencia entre KPIs cualitativos y cuantitativos.\n",
    "- Distingir entre KPIs estrategicos, operativos y funcionales.\n",
    "- Usar este conocimiento en un caso practico para definir y calcular un KPI."
   ]
  },
  {
   "cell_type": "markdown",
   "id": "d9b9dc57",
   "metadata": {},
   "source": [
    "## KPIs Cuantitativos y Cualitativos\n",
    "\n",
    "### KPIs Cuantitativos\n",
    "KPIs cuantitativos estan expresados en numeros y son posibles de medir de manera muy directa. Son esenciales para objetivos de evaluaciones y son comunmente relacionados a metricas de desempeño que influyen en el ingreso económico y rentabilidad de una empresa.\n",
    "\n",
    "**Ejemplos:**\n",
    "- **Ingreso de ventas (Sales Revenue):** Ingresos totales por actividades de venta. Es un indicador directo del desempeño de un negocio.\n",
    "<img style=\"margin: 0px 0px 15px 15px;\" src=\"https://online.hbs.edu/PublishingImages/Company-B-Income-Statement-version2.jpg\" width=\"400px\" height=\"400px\" />\n",
    "- **Margen de Ganancia Neto (Net Profit Margin):** Representa el porcentaje de ganancias sobre ingresos totales: $\\frac{\\text{Ingresos} - \\text{Costos}}{\\text{Ingresos}} = 1 - \\frac{\\text{Costos}}{\\text{Ingresos}}$.\n",
    "- **Valor del tiempo de vida del cliente (Customer Lifetime Value, CLTV o LTV):** Predice la ganancia neta atribuida a toda la relación futura del cliente. Una de muchas maneras de calcularlo es la siguiente $\\frac{\\text{ARPU} x \\text{% Margin}}{\\text{Churn Rate}}$ donde ARPU es el ingreso promedio mensual por usuario, % Margin es el Margen de ganancia neto y churn rate es la tasa de perdida de clientes mensual.\n",
    "\n",
    "**EJEMPLOS DE ALUMNOS**\n",
    "\n",
    "### KPIs Cualitativos\n",
    "Los KPIs cualitativos son mas subjetivos y comunmente son usados para medir el desempeño de actividades que no son cuantificables facilmente, como el Net Prompoter Score (NPS), Satisfacción del cliente (CSAT) y moral de los empleados.\n",
    "\n",
    "**Examples:**\n",
    "- **Customer Satisfaction Scores (CSAT):** Se obtiene a traves de formularios de retroalimentación y encuestas. Mide como los productos o servicios alcanzan o sobrepasan la expectativa del cliente. $\\frac{\\text{Respuestas de 4 o 5}}{\\text{Respuestas totales}}$\n",
    "<img style=\"margin: 0px 0px 15px 15px;\" src=\"https://www.questionpro.com/blog/wp-content/uploads/2020/04/Macdonalds-1.png\" width=\"400px\" height=\"400px\" />\n",
    "\n",
    "- **Net Promoters Score (NPS):** Indicador que mide la satisfacción del cliente, haciendole directamente la pregunta \"¿Recomendarías a tu familia y amigos que probaran el producto X?\" en escala del 1 al 10. Despues los que contestaron 9 o 10 los considerarás promotores, los que contestaron 6 o menos los consideraras detractores. El NPS se calcularía de la siguiente manera: $\\frac{\\text{Promotores}-\\text{Detractores}}{\\text{# usuarios que contestaron}}$\n",
    "<img style=\"margin: 0px 0px 15px 15px;\" src=\"https://business.critizr.com/hubfs/Measuring_emplpoye_satisfaction_eNPS.jpeg\" width=\"400px\" height=\"400px\" />\n",
    "\n",
    "- **Employee Satisfaction Index (ESI):** Tipicamente medido a traves de encuestas para entender la felicidad y compromiso del empleado, impactando la retención y productividad. Esto es contestando estas tres preguntas en una escala del 1 al 10, sumando las respuestas y dividiendolas entre 30 para sacar el porcentaje de satisfacción total.\n",
    "    - How satisfied are you with your current workplace?\n",
    "    - How well does your current workplace meet your expectations?\n",
    "    - How close is your current workplace to the ideal one?\n",
    "\n",
    "\n",
    "## KPIs estratégicos, operacionales y funcionales\n",
    "\n",
    "### KPIs estratégicos\n",
    "\n",
    "Los KPIs estratégicos están alineados con los objetivos de alto nivel de la compañia y metas de largo plazo. Ayudan a los directivos a impulsar el exito de la compañia y lograr sus objetivos estrategicos. Dependen mucho de la etapa de madurez de la empresa.\n",
    "\n",
    "**Ejemplos:**\n",
    "- **Return on Investment (ROI):** Mide la eficiencia de diferentes inversiones, determinando que tan bien la compañia esta usando su capital para generar ganancias. $\\frac{\\text{Ganancia neta}}{\\text{Costo de inversiones}}$\n",
    "- **Market Share:** Para compañias ya maduras, indica la porción de ventas dentro de la industria, otorgando conclusiones sobre el posicionamiento competitivo. $\\frac{\\text{Ventas de mi empresa}}{\\text{Ventas totales en la industria}}$\n",
    "- **Monthly Active Users (MAU) o Daily Active Users (DAU):** Para startups de tecnología, particularmente aplicaciones o plataformas en linea, darle seguimiento a usuarios activos es un indicador vital de crecimiento potencial.\n",
    "\n",
    "### KPIs operacionales\n",
    "\n",
    "KPIs operacionales son usados para medir la eficiencia y efectividad de la operación de la compañia. Son cruciales para la administración diaria y para darle seguimiento a la salud operacional de la compañia.\n",
    "\n",
    "**¿Que es la operación de la compañia?**\n",
    "Son todas las actividades requeridas para entregar productos o servicios a los clientes y alcanzar los objetivos de los negocios.\n",
    "\n",
    "**Ejemplos:**\n",
    "- **Tiempo del ciclo de cumplimiento del pedido:** Mide el tiempo tomado desde recibir una orden del cliente hasta entregar el producto. Muestra la eficiencia operacional.\n",
    "- **Rotación de inventario:** Muestra que tan seguido el inventario se vende y es remplazado sobre un periodo. Indica la efectividad de la administración de inventario. $\\frac{\\text{Costo de bienes vendidos}}{\\text{Promedio de inventario diario en el mes}}$\n",
    "- **Production Downtime:** Mide el tiempo que la producción estubo parada, impactando el tiempo de productividad total. $\\frac{\\text{Horas totales de producción en paro}}{\\text{Horas en el año operables (8,760 normalmente)}}$\n",
    "\n",
    "### KPIs Funcionales\n",
    "Los KPIs funcionales se enfocan en departamentos especificos dentro de la organización, enforcandose en el desempeño y la eficiencia de las areas especializadas.\n",
    "\n",
    "**Ejemplos:**\n",
    "- **Finanzas: Numero de proveedores** - Medición que ayuda al departamento financiero cuantos nuevos proveedores existen en la compañia dentro del sistema de contabilidad.\n",
    "- **Recursos Humanos: Tasa de rotación** - Indica la tasa a la cual los empleados se van y son reemplazados, afectando el costo de reclutamiento y estabilidad organizacional.\n",
    "- **Marketing: Clicks en los email enviados** - Medición que permite comparar el éxito de campañas de email y mejorar sus procesos de envio.\n",
    "\n"
   ]
  },
  {
   "cell_type": "markdown",
   "id": "f345a8ed",
   "metadata": {},
   "source": [
    "## Estudio de caso 1: Análisis de abandono de clientes en Telecomunicaciones\n",
    "\n",
    "### **Contexto  y antecedentes:**\n",
    "\n",
    "Para esta sesión, utilizaremos un conjunto de datos de una empresa de telecomunicaciones ficticia que proporcionó servicios de Internet y telefonía residencial a 7043 clientes en California durante el tercer trimestre. Este conjunto de datos, conocido como el conjunto de datos \"Telco Customer Churn\", incluye datos demográficos, servicios e información de cuentas de clientes. Nos centraremos en comprender la rotación de clientes, lo cual es crucial para desarrollar estrategias efectivas de retención de clientes.\n",
    "\n",
    "### Objetivo\n",
    "\n",
    "El objetivo de este estudio de caso es calcular indicadores clave que puedan ayudarnos a comprender cuanto porcentaje de los clientes se van y establecer una base para futuros análisis en profundidad destinados a mejorar las tasas de retención.\n",
    "\n",
    "### Descripción de la actividad\n",
    "\n",
    "1. **Exploración y comprensión de datos:** \n",
    "    - Los estudiantes primero explorarán el conjunto de datos para comprender el tipo de datos disponibles, centrándose en variables directamente relacionadas con la pérdida de clientes. ¿Cuantas y cuales variables tenemos disponibles?, ¿faltan datos?, ¿Los datos en las variables aparentan estar correctos?, ¿hay outliers?, ¿existe alguna que nos ayude identificar si un cliente abandono?\n",
    "\n",
    "2. **Cálculo del indicador:** \n",
    "    - Tasa de abandono: calcule la tasa de abandono general de la empresa para comprender la línea de base de deserción de clientes.\n",
    "    - Uso de servicios entre clientes que han abandonado: analice qué servicios (como teléfono, Internet, seguridad en línea) son más utilizados por los clientes que han abandonado.\n",
    "\n",
    "3. **Establecer la línea de base para análisis futuros:** \n",
    "    - Identifique patrones o tendencias potenciales en los datos de abandono relacionados con la demografía de los clientes (como personas mayores, socios, dependientes) o tipos de servicios.\n",
    "    - Proponga hipótesis sobre lo que podría estar influyendo en las tasas de abandono, como cargos mensuales elevados o quejas de servicios específicos."
   ]
  },
  {
   "cell_type": "code",
   "execution_count": 2,
   "id": "7adca6c6",
   "metadata": {},
   "outputs": [],
   "source": [
    "import pandas as pd"
   ]
  },
  {
   "cell_type": "code",
   "execution_count": 34,
   "id": "bf1f05b0",
   "metadata": {},
   "outputs": [],
   "source": [
    "df = pd.read_csv('data/WA_Fn-UseC_-Telco-Customer-Churn.csv')"
   ]
  },
  {
   "cell_type": "code",
   "execution_count": 35,
   "id": "4d5d9ee3",
   "metadata": {},
   "outputs": [
    {
     "data": {
      "text/html": [
       "<div>\n",
       "<style scoped>\n",
       "    .dataframe tbody tr th:only-of-type {\n",
       "        vertical-align: middle;\n",
       "    }\n",
       "\n",
       "    .dataframe tbody tr th {\n",
       "        vertical-align: top;\n",
       "    }\n",
       "\n",
       "    .dataframe thead th {\n",
       "        text-align: right;\n",
       "    }\n",
       "</style>\n",
       "<table border=\"1\" class=\"dataframe\">\n",
       "  <thead>\n",
       "    <tr style=\"text-align: right;\">\n",
       "      <th></th>\n",
       "      <th>customerID</th>\n",
       "      <th>gender</th>\n",
       "      <th>SeniorCitizen</th>\n",
       "      <th>Partner</th>\n",
       "      <th>Dependents</th>\n",
       "      <th>tenure</th>\n",
       "      <th>PhoneService</th>\n",
       "      <th>MultipleLines</th>\n",
       "      <th>InternetService</th>\n",
       "      <th>OnlineSecurity</th>\n",
       "      <th>...</th>\n",
       "      <th>DeviceProtection</th>\n",
       "      <th>TechSupport</th>\n",
       "      <th>StreamingTV</th>\n",
       "      <th>StreamingMovies</th>\n",
       "      <th>Contract</th>\n",
       "      <th>PaperlessBilling</th>\n",
       "      <th>PaymentMethod</th>\n",
       "      <th>MonthlyCharges</th>\n",
       "      <th>TotalCharges</th>\n",
       "      <th>Churn</th>\n",
       "    </tr>\n",
       "  </thead>\n",
       "  <tbody>\n",
       "    <tr>\n",
       "      <th>0</th>\n",
       "      <td>7590-VHVEG</td>\n",
       "      <td>Female</td>\n",
       "      <td>0</td>\n",
       "      <td>Yes</td>\n",
       "      <td>No</td>\n",
       "      <td>1</td>\n",
       "      <td>No</td>\n",
       "      <td>No phone service</td>\n",
       "      <td>DSL</td>\n",
       "      <td>No</td>\n",
       "      <td>...</td>\n",
       "      <td>No</td>\n",
       "      <td>No</td>\n",
       "      <td>No</td>\n",
       "      <td>No</td>\n",
       "      <td>Month-to-month</td>\n",
       "      <td>Yes</td>\n",
       "      <td>Electronic check</td>\n",
       "      <td>29.85</td>\n",
       "      <td>29.85</td>\n",
       "      <td>No</td>\n",
       "    </tr>\n",
       "    <tr>\n",
       "      <th>1</th>\n",
       "      <td>5575-GNVDE</td>\n",
       "      <td>Male</td>\n",
       "      <td>0</td>\n",
       "      <td>No</td>\n",
       "      <td>No</td>\n",
       "      <td>34</td>\n",
       "      <td>Yes</td>\n",
       "      <td>No</td>\n",
       "      <td>DSL</td>\n",
       "      <td>Yes</td>\n",
       "      <td>...</td>\n",
       "      <td>Yes</td>\n",
       "      <td>No</td>\n",
       "      <td>No</td>\n",
       "      <td>No</td>\n",
       "      <td>One year</td>\n",
       "      <td>No</td>\n",
       "      <td>Mailed check</td>\n",
       "      <td>56.95</td>\n",
       "      <td>1889.5</td>\n",
       "      <td>No</td>\n",
       "    </tr>\n",
       "    <tr>\n",
       "      <th>2</th>\n",
       "      <td>3668-QPYBK</td>\n",
       "      <td>Male</td>\n",
       "      <td>0</td>\n",
       "      <td>No</td>\n",
       "      <td>No</td>\n",
       "      <td>2</td>\n",
       "      <td>Yes</td>\n",
       "      <td>No</td>\n",
       "      <td>DSL</td>\n",
       "      <td>Yes</td>\n",
       "      <td>...</td>\n",
       "      <td>No</td>\n",
       "      <td>No</td>\n",
       "      <td>No</td>\n",
       "      <td>No</td>\n",
       "      <td>Month-to-month</td>\n",
       "      <td>Yes</td>\n",
       "      <td>Mailed check</td>\n",
       "      <td>53.85</td>\n",
       "      <td>108.15</td>\n",
       "      <td>Yes</td>\n",
       "    </tr>\n",
       "    <tr>\n",
       "      <th>3</th>\n",
       "      <td>7795-CFOCW</td>\n",
       "      <td>Male</td>\n",
       "      <td>0</td>\n",
       "      <td>No</td>\n",
       "      <td>No</td>\n",
       "      <td>45</td>\n",
       "      <td>No</td>\n",
       "      <td>No phone service</td>\n",
       "      <td>DSL</td>\n",
       "      <td>Yes</td>\n",
       "      <td>...</td>\n",
       "      <td>Yes</td>\n",
       "      <td>Yes</td>\n",
       "      <td>No</td>\n",
       "      <td>No</td>\n",
       "      <td>One year</td>\n",
       "      <td>No</td>\n",
       "      <td>Bank transfer (automatic)</td>\n",
       "      <td>42.30</td>\n",
       "      <td>1840.75</td>\n",
       "      <td>No</td>\n",
       "    </tr>\n",
       "    <tr>\n",
       "      <th>4</th>\n",
       "      <td>9237-HQITU</td>\n",
       "      <td>Female</td>\n",
       "      <td>0</td>\n",
       "      <td>No</td>\n",
       "      <td>No</td>\n",
       "      <td>2</td>\n",
       "      <td>Yes</td>\n",
       "      <td>No</td>\n",
       "      <td>Fiber optic</td>\n",
       "      <td>No</td>\n",
       "      <td>...</td>\n",
       "      <td>No</td>\n",
       "      <td>No</td>\n",
       "      <td>No</td>\n",
       "      <td>No</td>\n",
       "      <td>Month-to-month</td>\n",
       "      <td>Yes</td>\n",
       "      <td>Electronic check</td>\n",
       "      <td>70.70</td>\n",
       "      <td>151.65</td>\n",
       "      <td>Yes</td>\n",
       "    </tr>\n",
       "  </tbody>\n",
       "</table>\n",
       "<p>5 rows × 21 columns</p>\n",
       "</div>"
      ],
      "text/plain": [
       "   customerID  gender  SeniorCitizen Partner Dependents  tenure PhoneService  \\\n",
       "0  7590-VHVEG  Female              0     Yes         No       1           No   \n",
       "1  5575-GNVDE    Male              0      No         No      34          Yes   \n",
       "2  3668-QPYBK    Male              0      No         No       2          Yes   \n",
       "3  7795-CFOCW    Male              0      No         No      45           No   \n",
       "4  9237-HQITU  Female              0      No         No       2          Yes   \n",
       "\n",
       "      MultipleLines InternetService OnlineSecurity  ... DeviceProtection  \\\n",
       "0  No phone service             DSL             No  ...               No   \n",
       "1                No             DSL            Yes  ...              Yes   \n",
       "2                No             DSL            Yes  ...               No   \n",
       "3  No phone service             DSL            Yes  ...              Yes   \n",
       "4                No     Fiber optic             No  ...               No   \n",
       "\n",
       "  TechSupport StreamingTV StreamingMovies        Contract PaperlessBilling  \\\n",
       "0          No          No              No  Month-to-month              Yes   \n",
       "1          No          No              No        One year               No   \n",
       "2          No          No              No  Month-to-month              Yes   \n",
       "3         Yes          No              No        One year               No   \n",
       "4          No          No              No  Month-to-month              Yes   \n",
       "\n",
       "               PaymentMethod MonthlyCharges  TotalCharges Churn  \n",
       "0           Electronic check          29.85         29.85    No  \n",
       "1               Mailed check          56.95        1889.5    No  \n",
       "2               Mailed check          53.85        108.15   Yes  \n",
       "3  Bank transfer (automatic)          42.30       1840.75    No  \n",
       "4           Electronic check          70.70        151.65   Yes  \n",
       "\n",
       "[5 rows x 21 columns]"
      ]
     },
     "execution_count": 35,
     "metadata": {},
     "output_type": "execute_result"
    }
   ],
   "source": [
    "df.head()"
   ]
  },
  {
   "cell_type": "code",
   "execution_count": 36,
   "id": "15524eab",
   "metadata": {},
   "outputs": [
    {
     "name": "stdout",
     "output_type": "stream",
     "text": [
      "<class 'pandas.core.frame.DataFrame'>\n",
      "RangeIndex: 7043 entries, 0 to 7042\n",
      "Data columns (total 21 columns):\n",
      " #   Column            Non-Null Count  Dtype  \n",
      "---  ------            --------------  -----  \n",
      " 0   customerID        7043 non-null   object \n",
      " 1   gender            7043 non-null   object \n",
      " 2   SeniorCitizen     7043 non-null   int64  \n",
      " 3   Partner           7043 non-null   object \n",
      " 4   Dependents        7043 non-null   object \n",
      " 5   tenure            7043 non-null   int64  \n",
      " 6   PhoneService      7043 non-null   object \n",
      " 7   MultipleLines     7043 non-null   object \n",
      " 8   InternetService   7043 non-null   object \n",
      " 9   OnlineSecurity    7043 non-null   object \n",
      " 10  OnlineBackup      7043 non-null   object \n",
      " 11  DeviceProtection  7043 non-null   object \n",
      " 12  TechSupport       7043 non-null   object \n",
      " 13  StreamingTV       7043 non-null   object \n",
      " 14  StreamingMovies   7043 non-null   object \n",
      " 15  Contract          7043 non-null   object \n",
      " 16  PaperlessBilling  7043 non-null   object \n",
      " 17  PaymentMethod     7043 non-null   object \n",
      " 18  MonthlyCharges    7043 non-null   float64\n",
      " 19  TotalCharges      7043 non-null   object \n",
      " 20  Churn             7043 non-null   object \n",
      "dtypes: float64(1), int64(2), object(18)\n",
      "memory usage: 1.1+ MB\n"
     ]
    }
   ],
   "source": [
    "df.info()"
   ]
  },
  {
   "cell_type": "code",
   "execution_count": 38,
   "id": "ca47345b",
   "metadata": {},
   "outputs": [
    {
     "data": {
      "text/plain": [
       "Churn\n",
       "No     5174\n",
       "Yes    1869\n",
       "Name: count, dtype: int64"
      ]
     },
     "execution_count": 38,
     "metadata": {},
     "output_type": "execute_result"
    }
   ],
   "source": [
    "df['Churn'].value_counts()"
   ]
  },
  {
   "cell_type": "code",
   "execution_count": 40,
   "id": "d7bd921b",
   "metadata": {},
   "outputs": [],
   "source": [
    "df['churn_flag'] = 1 * (df['Churn'] == \"Yes\")"
   ]
  },
  {
   "cell_type": "code",
   "execution_count": 41,
   "id": "b928069a",
   "metadata": {},
   "outputs": [
    {
     "data": {
      "text/plain": [
       "0       0\n",
       "1       0\n",
       "2       1\n",
       "3       0\n",
       "4       1\n",
       "       ..\n",
       "7038    0\n",
       "7039    0\n",
       "7040    0\n",
       "7041    1\n",
       "7042    0\n",
       "Name: churn_flag, Length: 7043, dtype: int64"
      ]
     },
     "execution_count": 41,
     "metadata": {},
     "output_type": "execute_result"
    }
   ],
   "source": [
    "df['churn_flag']"
   ]
  },
  {
   "cell_type": "code",
   "execution_count": 42,
   "id": "75051cfb",
   "metadata": {},
   "outputs": [
    {
     "data": {
      "text/plain": [
       "0.2653698707936959"
      ]
     },
     "execution_count": 42,
     "metadata": {},
     "output_type": "execute_result"
    }
   ],
   "source": [
    "df['churn_flag'].mean()"
   ]
  },
  {
   "cell_type": "code",
   "execution_count": 43,
   "id": "6a37b873",
   "metadata": {},
   "outputs": [
    {
     "data": {
      "text/plain": [
       "PhoneService\n",
       "No     0.249267\n",
       "Yes    0.267096\n",
       "Name: churn_flag, dtype: float64"
      ]
     },
     "execution_count": 43,
     "metadata": {},
     "output_type": "execute_result"
    }
   ],
   "source": [
    "df.groupby(\"PhoneService\")['churn_flag'].mean()"
   ]
  },
  {
   "cell_type": "markdown",
   "id": "99ad40c5",
   "metadata": {},
   "source": [
    "## Estudio de caso 2: Análisis del comercio minorista en línea\n",
    "\n",
    "### **Contexto  y antecedentes:**\n",
    "\n",
    "Se le proporcionan datos de una tienda minorista en línea. El conjunto de datos incluye transacciones del 12/01/2009 al 12/09/2011 para un comercio en línea y con sede en el Reino Unido. La empresa vende principalmente regalos únicos para todas las ocasiones. Muchos clientes de la empresa son mayoristas.\n",
    "\n",
    "### Objetivo\n",
    "\n",
    "Su tarea es analizar los datos proporcionados para identificar KPI importantes que podrían ayudar a la gerencia a comprender mejor el desempeño de su negocio, centrándose específicamente en el valor del cliente y las ventas totales a traves del tiempo.\n",
    "\n",
    "### Datos disponibles\n",
    "\n",
    "El dataset incluye los siguientes atributos (variables, features, columnas, campos, etc...):\n",
    "- InvoiceNo: Numero de ticket. Nominal. Un número de 6 digitos unico por cada transacción. Si comienza con una letra \"c\", indica que fue una cancelación. \n",
    "- StockCode: Codigo del producto (item). Nominal. Número de 5 diginos unico por cada producto distinto.\n",
    "- Description: Nombre del producto (item). Nominal. \n",
    "- Quantity: Cantidad de producto (item) vendido en la transacción. Numérico.\t\n",
    "- InvoiceDate: Fecha y hora que se generó la transacción. Numérico. \n",
    "- UnitPrice: Precio unitario. Numérico. Precio del producto en libras esterlinas (Â£). \n",
    "- CustomerID: Numero de cliente. Nominal. Número entero de 5 digitos unico asociado a cada cliente. \n",
    "- Country: Nombre del país. Nominal. Nombre del país donde el cliente reside.\n",
    "\n",
    "**Datos disponibles en:** [Online Retail II Data](https://archive.ics.uci.edu/ml/datasets/Online+Retail+II)\n",
    "\n",
    "### Descripción de la actividad\n",
    "\n",
    "1. **Exploración y comprensión de datos:** \n",
    "    - Los estudiantes primero explorarán el conjunto de datos para comprender el tipo de datos disponibles, centrándose en variables directamente relacionadas con el objetivo de la empresa.\n",
    "\n",
    "2. **Selección de indicadores:**\n",
    "    - Los estudiantes escogerán que indicadores estarían relacionados con el objetivo de la empresa.\n",
    "\n",
    "3. **Cálculo de los indicadores:** \n",
    "    - Una vez seleccionados los indicadores es momento de calcularlos.\n",
    "\n",
    "4. **Analizar los resultados y preparar un reporte breve de lo que se observo:** \n",
    "    - Que dicen los resultados de la empresa. ¿El valor de sus clientes aumento?, ¿el desempeño de ventas aumento?, ¿Si yo quisiera valuar la empresa con multiplos con los datos que tengo como le puedo hacer?"
   ]
  },
  {
   "cell_type": "code",
   "execution_count": 23,
   "id": "9dbe3978",
   "metadata": {},
   "outputs": [],
   "source": [
    "regalos_1 = pd.read_excel(\"data/online_retail_II.xlsx\", sheet_name=0)"
   ]
  },
  {
   "cell_type": "code",
   "execution_count": 24,
   "id": "6e2ad0f7",
   "metadata": {},
   "outputs": [],
   "source": [
    "regalos_2 = pd.read_excel(\"data/online_retail_II.xlsx\", sheet_name=1)"
   ]
  },
  {
   "cell_type": "code",
   "execution_count": 22,
   "id": "373567b3",
   "metadata": {},
   "outputs": [],
   "source": [
    "?pd.read_excel"
   ]
  },
  {
   "cell_type": "code",
   "execution_count": 25,
   "id": "65403bf1",
   "metadata": {},
   "outputs": [],
   "source": [
    "regalos = pd.concat([regalos_1, regalos_2], axis = 0)"
   ]
  },
  {
   "cell_type": "code",
   "execution_count": 26,
   "id": "6870af4c",
   "metadata": {},
   "outputs": [
    {
     "data": {
      "text/html": [
       "<div>\n",
       "<style scoped>\n",
       "    .dataframe tbody tr th:only-of-type {\n",
       "        vertical-align: middle;\n",
       "    }\n",
       "\n",
       "    .dataframe tbody tr th {\n",
       "        vertical-align: top;\n",
       "    }\n",
       "\n",
       "    .dataframe thead th {\n",
       "        text-align: right;\n",
       "    }\n",
       "</style>\n",
       "<table border=\"1\" class=\"dataframe\">\n",
       "  <thead>\n",
       "    <tr style=\"text-align: right;\">\n",
       "      <th></th>\n",
       "      <th>Invoice</th>\n",
       "      <th>StockCode</th>\n",
       "      <th>Description</th>\n",
       "      <th>Quantity</th>\n",
       "      <th>InvoiceDate</th>\n",
       "      <th>Price</th>\n",
       "      <th>Customer ID</th>\n",
       "      <th>Country</th>\n",
       "    </tr>\n",
       "  </thead>\n",
       "  <tbody>\n",
       "    <tr>\n",
       "      <th>0</th>\n",
       "      <td>489434</td>\n",
       "      <td>85048</td>\n",
       "      <td>15CM CHRISTMAS GLASS BALL 20 LIGHTS</td>\n",
       "      <td>12</td>\n",
       "      <td>2009-12-01 07:45:00</td>\n",
       "      <td>6.95</td>\n",
       "      <td>13085.0</td>\n",
       "      <td>United Kingdom</td>\n",
       "    </tr>\n",
       "    <tr>\n",
       "      <th>1</th>\n",
       "      <td>489434</td>\n",
       "      <td>79323P</td>\n",
       "      <td>PINK CHERRY LIGHTS</td>\n",
       "      <td>12</td>\n",
       "      <td>2009-12-01 07:45:00</td>\n",
       "      <td>6.75</td>\n",
       "      <td>13085.0</td>\n",
       "      <td>United Kingdom</td>\n",
       "    </tr>\n",
       "    <tr>\n",
       "      <th>2</th>\n",
       "      <td>489434</td>\n",
       "      <td>79323W</td>\n",
       "      <td>WHITE CHERRY LIGHTS</td>\n",
       "      <td>12</td>\n",
       "      <td>2009-12-01 07:45:00</td>\n",
       "      <td>6.75</td>\n",
       "      <td>13085.0</td>\n",
       "      <td>United Kingdom</td>\n",
       "    </tr>\n",
       "    <tr>\n",
       "      <th>3</th>\n",
       "      <td>489434</td>\n",
       "      <td>22041</td>\n",
       "      <td>RECORD FRAME 7\" SINGLE SIZE</td>\n",
       "      <td>48</td>\n",
       "      <td>2009-12-01 07:45:00</td>\n",
       "      <td>2.10</td>\n",
       "      <td>13085.0</td>\n",
       "      <td>United Kingdom</td>\n",
       "    </tr>\n",
       "    <tr>\n",
       "      <th>4</th>\n",
       "      <td>489434</td>\n",
       "      <td>21232</td>\n",
       "      <td>STRAWBERRY CERAMIC TRINKET BOX</td>\n",
       "      <td>24</td>\n",
       "      <td>2009-12-01 07:45:00</td>\n",
       "      <td>1.25</td>\n",
       "      <td>13085.0</td>\n",
       "      <td>United Kingdom</td>\n",
       "    </tr>\n",
       "  </tbody>\n",
       "</table>\n",
       "</div>"
      ],
      "text/plain": [
       "  Invoice StockCode                          Description  Quantity  \\\n",
       "0  489434     85048  15CM CHRISTMAS GLASS BALL 20 LIGHTS        12   \n",
       "1  489434    79323P                   PINK CHERRY LIGHTS        12   \n",
       "2  489434    79323W                  WHITE CHERRY LIGHTS        12   \n",
       "3  489434     22041         RECORD FRAME 7\" SINGLE SIZE         48   \n",
       "4  489434     21232       STRAWBERRY CERAMIC TRINKET BOX        24   \n",
       "\n",
       "          InvoiceDate  Price  Customer ID         Country  \n",
       "0 2009-12-01 07:45:00   6.95      13085.0  United Kingdom  \n",
       "1 2009-12-01 07:45:00   6.75      13085.0  United Kingdom  \n",
       "2 2009-12-01 07:45:00   6.75      13085.0  United Kingdom  \n",
       "3 2009-12-01 07:45:00   2.10      13085.0  United Kingdom  \n",
       "4 2009-12-01 07:45:00   1.25      13085.0  United Kingdom  "
      ]
     },
     "execution_count": 26,
     "metadata": {},
     "output_type": "execute_result"
    }
   ],
   "source": [
    "regalos_1.head()"
   ]
  },
  {
   "cell_type": "code",
   "execution_count": 27,
   "id": "d9a037ba",
   "metadata": {},
   "outputs": [
    {
     "data": {
      "text/html": [
       "<div>\n",
       "<style scoped>\n",
       "    .dataframe tbody tr th:only-of-type {\n",
       "        vertical-align: middle;\n",
       "    }\n",
       "\n",
       "    .dataframe tbody tr th {\n",
       "        vertical-align: top;\n",
       "    }\n",
       "\n",
       "    .dataframe thead th {\n",
       "        text-align: right;\n",
       "    }\n",
       "</style>\n",
       "<table border=\"1\" class=\"dataframe\">\n",
       "  <thead>\n",
       "    <tr style=\"text-align: right;\">\n",
       "      <th></th>\n",
       "      <th>Invoice</th>\n",
       "      <th>StockCode</th>\n",
       "      <th>Description</th>\n",
       "      <th>Quantity</th>\n",
       "      <th>InvoiceDate</th>\n",
       "      <th>Price</th>\n",
       "      <th>Customer ID</th>\n",
       "      <th>Country</th>\n",
       "    </tr>\n",
       "  </thead>\n",
       "  <tbody>\n",
       "    <tr>\n",
       "      <th>0</th>\n",
       "      <td>536365</td>\n",
       "      <td>85123A</td>\n",
       "      <td>WHITE HANGING HEART T-LIGHT HOLDER</td>\n",
       "      <td>6</td>\n",
       "      <td>2010-12-01 08:26:00</td>\n",
       "      <td>2.55</td>\n",
       "      <td>17850.0</td>\n",
       "      <td>United Kingdom</td>\n",
       "    </tr>\n",
       "    <tr>\n",
       "      <th>1</th>\n",
       "      <td>536365</td>\n",
       "      <td>71053</td>\n",
       "      <td>WHITE METAL LANTERN</td>\n",
       "      <td>6</td>\n",
       "      <td>2010-12-01 08:26:00</td>\n",
       "      <td>3.39</td>\n",
       "      <td>17850.0</td>\n",
       "      <td>United Kingdom</td>\n",
       "    </tr>\n",
       "    <tr>\n",
       "      <th>2</th>\n",
       "      <td>536365</td>\n",
       "      <td>84406B</td>\n",
       "      <td>CREAM CUPID HEARTS COAT HANGER</td>\n",
       "      <td>8</td>\n",
       "      <td>2010-12-01 08:26:00</td>\n",
       "      <td>2.75</td>\n",
       "      <td>17850.0</td>\n",
       "      <td>United Kingdom</td>\n",
       "    </tr>\n",
       "    <tr>\n",
       "      <th>3</th>\n",
       "      <td>536365</td>\n",
       "      <td>84029G</td>\n",
       "      <td>KNITTED UNION FLAG HOT WATER BOTTLE</td>\n",
       "      <td>6</td>\n",
       "      <td>2010-12-01 08:26:00</td>\n",
       "      <td>3.39</td>\n",
       "      <td>17850.0</td>\n",
       "      <td>United Kingdom</td>\n",
       "    </tr>\n",
       "    <tr>\n",
       "      <th>4</th>\n",
       "      <td>536365</td>\n",
       "      <td>84029E</td>\n",
       "      <td>RED WOOLLY HOTTIE WHITE HEART.</td>\n",
       "      <td>6</td>\n",
       "      <td>2010-12-01 08:26:00</td>\n",
       "      <td>3.39</td>\n",
       "      <td>17850.0</td>\n",
       "      <td>United Kingdom</td>\n",
       "    </tr>\n",
       "  </tbody>\n",
       "</table>\n",
       "</div>"
      ],
      "text/plain": [
       "  Invoice StockCode                          Description  Quantity  \\\n",
       "0  536365    85123A   WHITE HANGING HEART T-LIGHT HOLDER         6   \n",
       "1  536365     71053                  WHITE METAL LANTERN         6   \n",
       "2  536365    84406B       CREAM CUPID HEARTS COAT HANGER         8   \n",
       "3  536365    84029G  KNITTED UNION FLAG HOT WATER BOTTLE         6   \n",
       "4  536365    84029E       RED WOOLLY HOTTIE WHITE HEART.         6   \n",
       "\n",
       "          InvoiceDate  Price  Customer ID         Country  \n",
       "0 2010-12-01 08:26:00   2.55      17850.0  United Kingdom  \n",
       "1 2010-12-01 08:26:00   3.39      17850.0  United Kingdom  \n",
       "2 2010-12-01 08:26:00   2.75      17850.0  United Kingdom  \n",
       "3 2010-12-01 08:26:00   3.39      17850.0  United Kingdom  \n",
       "4 2010-12-01 08:26:00   3.39      17850.0  United Kingdom  "
      ]
     },
     "execution_count": 27,
     "metadata": {},
     "output_type": "execute_result"
    }
   ],
   "source": [
    "regalos_2.head()"
   ]
  },
  {
   "cell_type": "code",
   "execution_count": 28,
   "id": "06b04da0",
   "metadata": {},
   "outputs": [
    {
     "data": {
      "text/plain": [
       "count    1.067371e+06\n",
       "mean     1.806987e+01\n",
       "std      2.924202e+02\n",
       "min     -1.684696e+05\n",
       "25%      3.750000e+00\n",
       "50%      9.900000e+00\n",
       "75%      1.770000e+01\n",
       "max      1.684696e+05\n",
       "Name: revenue, dtype: float64"
      ]
     },
     "execution_count": 28,
     "metadata": {},
     "output_type": "execute_result"
    }
   ],
   "source": [
    "regalos['revenue'] = regalos['Quantity'] * regalos['Price']\n",
    "regalos['revenue'].describe()"
   ]
  },
  {
   "cell_type": "code",
   "execution_count": 32,
   "id": "01e21a8d",
   "metadata": {},
   "outputs": [],
   "source": [
    "compras_por_usuario = regalos.groupby(\"Customer ID\")['revenue'].sum()"
   ]
  },
  {
   "cell_type": "code",
   "execution_count": 44,
   "id": "b86d186d",
   "metadata": {},
   "outputs": [
    {
     "data": {
      "text/plain": [
       "Customer ID\n",
       "12346.0     -64.68\n",
       "12347.0    5633.32\n",
       "12348.0    2019.40\n",
       "12349.0    4404.54\n",
       "12350.0     334.40\n",
       "            ...   \n",
       "18283.0    2736.65\n",
       "18284.0     436.68\n",
       "18285.0     427.00\n",
       "18286.0    1188.43\n",
       "18287.0    4177.89\n",
       "Name: revenue, Length: 5942, dtype: float64"
      ]
     },
     "execution_count": 44,
     "metadata": {},
     "output_type": "execute_result"
    }
   ],
   "source": [
    "compras_por_usuario"
   ]
  },
  {
   "cell_type": "code",
   "execution_count": 33,
   "id": "be5bd736",
   "metadata": {},
   "outputs": [
    {
     "data": {
      "text/plain": [
       "2801.7994594412658"
      ]
     },
     "execution_count": 33,
     "metadata": {},
     "output_type": "execute_result"
    }
   ],
   "source": [
    "compras_por_usuario.mean()"
   ]
  },
  {
   "cell_type": "markdown",
   "id": "e5264aa8",
   "metadata": {},
   "source": [
    "<script>\n",
    "  $(document).ready(function(){\n",
    "    $('div.prompt').hide();\n",
    "    $('div.back-to-top').hide();\n",
    "    $('nav#menubar').hide();\n",
    "    $('.breadcrumb').hide();\n",
    "    $('.hidden-print').hide();\n",
    "  });\n",
    "</script>\n",
    "\n",
    "<footer id=\"attribution\" style=\"float:right; color:#808080; background:#fff;\">\n",
    "Created with Jupyter by Carlos Kelly\n",
    "</footer>"
   ]
  }
 ],
 "metadata": {
  "kernelspec": {
   "display_name": "Python 3 (ipykernel)",
   "language": "python",
   "name": "python3"
  },
  "language_info": {
   "codemirror_mode": {
    "name": "ipython",
    "version": 3
   },
   "file_extension": ".py",
   "mimetype": "text/x-python",
   "name": "python",
   "nbconvert_exporter": "python",
   "pygments_lexer": "ipython3",
   "version": "3.11.5"
  }
 },
 "nbformat": 4,
 "nbformat_minor": 5
}
