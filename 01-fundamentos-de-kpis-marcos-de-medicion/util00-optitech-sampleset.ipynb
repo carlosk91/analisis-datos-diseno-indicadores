{
 "cells": [
  {
   "cell_type": "code",
   "execution_count": 2,
   "id": "de35f9e0",
   "metadata": {},
   "outputs": [],
   "source": [
    "import pandas as pd\n",
    "import numpy as np\n",
    "\n",
    "np.random.seed(42)\n",
    "\n",
    "\n",
    "dates = pd.date_range(start=\"2019-01-01\", end=\"2023-12-31\", freq='M')\n",
    "\n",
    "seasonal_effect = np.cos(2 * np.pi * dates.month / 12) * 0.15 + 1\n",
    "marketing_expenditures = np.random.normal(loc=25000, scale=5000, size=len(dates)) * seasonal_effect\n",
    "marketing_expenditures = np.convolve(marketing_expenditures, [0.2, 0.3, 0.5], mode='same')[:len(dates)]\n",
    "\n",
    "data = {\n",
    "    \"Date\": dates,\n",
    "    \"Marketing_Expenditure\": marketing_expenditures.astype(int)\n",
    "}\n",
    "df = pd.DataFrame(data)\n",
    "\n",
    "df['Web_Traffic'] = (df['Marketing_Expenditure'].shift(-1) * np.random.normal(loc=1, scale=0.4, size=len(dates))).fillna(0).astype(int).clip(lower=10000)\n",
    "\n",
    "conversion_rate = np.random.normal(loc=0.002, scale=0.001, size=len(dates))\n",
    "df['New_Customers'] = (df['Web_Traffic'].shift(-1) * conversion_rate).fillna(0).clip(lower=10).astype(int)\n",
    "\n",
    "churn_rate = np.random.uniform(0.05, 0.12, size=len(dates))\n",
    "df['Beginning_Customers'] = (df['New_Customers'].cumsum() - (df['New_Customers'].cumsum().shift(1) * churn_rate).fillna(0)).fillna(0).astype(int)\n",
    "\n",
    "df['Monthly_Revenue'] = ((df['New_Customers'] + df['Beginning_Customers']) * np.random.normal(loc=400, scale=80, size=len(dates)) * seasonal_effect).astype(int)\n",
    "\n",
    "df['Employee_Training_Hours'] = np.random.normal(loc=120, scale=30, size=len(dates)).astype(int)\n",
    "\n",
    "immediate_impact = np.interp(df['Employee_Training_Hours'], [80, 160], [0.05, 0.1])\n",
    "future_impact = np.interp(df['Employee_Training_Hours'].shift(1), [80, 160], [0.1, 0.2])\n",
    "future_impact = np.nan_to_num(future_impact)  # Replace NaN values with 0\n",
    "\n",
    "impact_factor = 0.2 + immediate_impact + future_impact\n",
    "\n",
    "df['Total_Customer_Respondents'] = np.random.randint(150, 300, size=len(dates))\n",
    "df['High_Customer_Score_Respondents'] = (df['Total_Customer_Respondents'] * impact_factor).round().clip(0, df['Total_Customer_Respondents']).astype(int)\n",
    "\n",
    "df['Total_Employee_Respondents'] = np.random.randint(50, 100, size=len(dates))\n",
    "promotion_rate = 0.2 + future_impact\n",
    "detractor_rate = 0.1 - immediate_impact / 2\n",
    "\n",
    "df['Promoters_Employee_Score_Respondents'] = (df['Total_Employee_Respondents'] * promotion_rate).round().clip(0, df['Total_Employee_Respondents']).astype(int)\n",
    "df['Detractors_Employee_Score_Respondents'] = (df['Total_Employee_Respondents'] * detractor_rate).round().clip(0, df['Total_Employee_Respondents']).astype(int)\n",
    "\n",
    "df.to_csv(\"data/optitech_solutions_data.csv\", index=False)"
   ]
  }
 ],
 "metadata": {
  "kernelspec": {
   "display_name": "Python 3 (ipykernel)",
   "language": "python",
   "name": "python3"
  },
  "language_info": {
   "codemirror_mode": {
    "name": "ipython",
    "version": 3
   },
   "file_extension": ".py",
   "mimetype": "text/x-python",
   "name": "python",
   "nbconvert_exporter": "python",
   "pygments_lexer": "ipython3",
   "version": "3.11.5"
  }
 },
 "nbformat": 4,
 "nbformat_minor": 5
}
